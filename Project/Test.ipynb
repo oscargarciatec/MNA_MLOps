{
 "cells": [
  {
   "cell_type": "code",
   "execution_count": 1,
   "id": "a6814ed1",
   "metadata": {},
   "outputs": [],
   "source": [
    "from EvalModelo import Evaluador\n",
    "from CargaDatos import CargaDatasets\n",
    "from Modelo import ModeloEspecial\n",
    "from pathlib import Path\n",
    "import numpy as np\n",
    "from sklearn.ensemble import RandomForestRegressor, GradientBoostingRegressor\n",
    "from sklearn.metrics import mean_squared_error"
   ]
  },
  {
   "cell_type": "code",
   "execution_count": 2,
   "id": "2b451c19",
   "metadata": {},
   "outputs": [],
   "source": [
    "carpeta = Path(\"../data/processed\")\n",
    "\n",
    "# 2) Instancia y lee\n",
    "carga = CargaDatasets(\n",
    "    carpeta_raw=carpeta,\n",
    "    nombre_modificado=\"power_tetouan_city_processed.csv\",\n",
    ")\n",
    "\n",
    "df = carga.leer()\n"
   ]
  },
  {
   "cell_type": "code",
   "execution_count": 12,
   "id": "3cc850f5",
   "metadata": {},
   "outputs": [
    {
     "name": "stdout",
     "output_type": "stream",
     "text": [
      "              model    rmse_mean   rmse_std\n",
      "0      RandomForest   863.844156  35.083149\n",
      "1           XGBoost   951.048584  32.452242\n",
      "2  GradientBoosting   961.337798  32.198458\n",
      "3        ElasticNet  3307.388993  27.333673\n",
      "4               SVR  3374.946352  28.530993\n",
      "Mejor: RandomForest RMSE test: 3698.855\n"
     ]
    }
   ],
   "source": [
    "train = Evaluador(df)\n",
    "cv_table, _ = train.cross_validate()\n",
    "best_pipe, test_rmse = train.fit_best()\n",
    "print(cv_table)\n",
    "print(\"Mejor:\", train.best_name_, \"RMSE test:\", round(test_rmse, 3))"
   ]
  },
  {
   "cell_type": "code",
   "execution_count": 3,
   "id": "f8b1279b",
   "metadata": {},
   "outputs": [
    {
     "name": "stdout",
     "output_type": "stream",
     "text": [
      "Starting model training...\n",
      "Training complete.\n",
      "Model successfully saved to: best_model_pipeline.joblib\n",
      "\n",
      "Model performance on the x_test dataset:\n",
      "Test RMSE: 3698.855\n"
     ]
    }
   ],
   "source": [
    "MODEL_FILE = 'best_model_pipeline.joblib'\n",
    "# Assuming full_data DataFrame is loaded\n",
    "\n",
    "# 1. Define Model and Predictor Object\n",
    "rf_model = RandomForestRegressor(n_estimators=700, min_samples_split=2, min_samples_leaf=1,\n",
    "            max_features=3, random_state=42, n_jobs=-1)\n",
    "trainer = ModeloEspecial(model_path=MODEL_FILE)\n",
    "\n",
    "# 2. Train the model and save the fitted pipeline to disk\n",
    "# (This step performs the fit(X_train, y_train) and the save)\n",
    "x_test, y_true_labels = trainer.train_and_save(df=df, model=rf_model)\n",
    "y_predictions = trainer.predict(x_test)\n",
    "\n",
    "rmse = np.sqrt(mean_squared_error(y_true_labels, y_predictions))\n",
    "\n",
    "print(f\"\\nModel performance on the x_test dataset:\")\n",
    "print(f\"Test RMSE: {rmse:.3f}\")"
   ]
  },
  {
   "cell_type": "code",
   "execution_count": 4,
   "id": "08e0e39d",
   "metadata": {},
   "outputs": [
    {
     "name": "stdout",
     "output_type": "stream",
     "text": [
      "Starting model training...\n",
      "Training complete.\n",
      "Model successfully saved to: best_model_pipeline.joblib\n",
      "\n",
      "Model performance on the x_test dataset:\n",
      "Test RMSE: 2971.487\n"
     ]
    }
   ],
   "source": [
    "MODEL_FILE = 'best_model_pipeline.joblib'\n",
    "# Assuming full_data DataFrame is loaded\n",
    "\n",
    "# 1. Define Model and Predictor Object\n",
    "rf_model = GradientBoostingRegressor(\n",
    "            n_estimators=500, learning_rate=0.05, max_depth=5,\n",
    "            min_samples_split=5, min_samples_leaf=3, random_state=42\n",
    "        )\n",
    "trainer = ModeloEspecial(model_path=MODEL_FILE)\n",
    "\n",
    "# 2. Train the model and save the fitted pipeline to disk\n",
    "# (This step performs the fit(X_train, y_train) and the save)\n",
    "x_test, y_true_labels = trainer.train_and_save(df=df, model=rf_model)\n",
    "y_predictions = trainer.predict(x_test)\n",
    "\n",
    "rmse = np.sqrt(mean_squared_error(y_true_labels, y_predictions))\n",
    "\n",
    "print(f\"\\nModel performance on the x_test dataset:\")\n",
    "print(f\"Test RMSE: {rmse:.3f}\")"
   ]
  },
  {
   "cell_type": "code",
   "execution_count": 15,
   "id": "7f3a700d",
   "metadata": {},
   "outputs": [
    {
     "name": "stdout",
     "output_type": "stream",
     "text": [
      "Model successfully loaded from: best_model_pipeline.joblib\n",
      "Prediction successful.\n"
     ]
    }
   ],
   "source": [
    "MODEL_FILE = 'best_model_pipeline.joblib'\n",
    "# Assume you have new_data_features (X_new) that is truly unseen\n",
    "\n",
    "# 1. Instantiate the Predictor (doesn't need the full DataFrame or model definition)\n",
    "predictor = ModeloEspecial(model_path=MODEL_FILE)\n",
    "\n",
    "# 2. Load the trained pipeline\n",
    "if predictor.load_model():\n",
    "    # 3. Make predictions on unseen data\n",
    "    unseen_predictions = predictor.predict(x_test) \n",
    "    print(\"Prediction successful.\")"
   ]
  },
  {
   "cell_type": "code",
   "execution_count": 16,
   "id": "24fae98c",
   "metadata": {},
   "outputs": [
    {
     "data": {
      "text/html": [
       "<div>\n",
       "<style scoped>\n",
       "    .dataframe tbody tr th:only-of-type {\n",
       "        vertical-align: middle;\n",
       "    }\n",
       "\n",
       "    .dataframe tbody tr th {\n",
       "        vertical-align: top;\n",
       "    }\n",
       "\n",
       "    .dataframe thead th {\n",
       "        text-align: right;\n",
       "    }\n",
       "</style>\n",
       "<table border=\"1\" class=\"dataframe\">\n",
       "  <thead>\n",
       "    <tr style=\"text-align: right;\">\n",
       "      <th></th>\n",
       "      <th>Temperature</th>\n",
       "      <th>Humidity</th>\n",
       "      <th>WindSpeed</th>\n",
       "      <th>GeneralDiffuseFlows</th>\n",
       "      <th>DiffuseFlows</th>\n",
       "      <th>PowerConsumption_Zone1</th>\n",
       "      <th>PowerConsumption_Zone2</th>\n",
       "      <th>PowerConsumption_Zone3</th>\n",
       "      <th>Day</th>\n",
       "      <th>Month</th>\n",
       "      <th>Hour</th>\n",
       "      <th>Minute</th>\n",
       "      <th>DayWeek</th>\n",
       "      <th>QuarterYear</th>\n",
       "      <th>DayYear</th>\n",
       "    </tr>\n",
       "  </thead>\n",
       "  <tbody>\n",
       "    <tr>\n",
       "      <th>0</th>\n",
       "      <td>6.559</td>\n",
       "      <td>73.8</td>\n",
       "      <td>0.083</td>\n",
       "      <td>0.051</td>\n",
       "      <td>5.567</td>\n",
       "      <td>34055.6962</td>\n",
       "      <td>16128.87538</td>\n",
       "      <td>20240.96386</td>\n",
       "      <td>1</td>\n",
       "      <td>1</td>\n",
       "      <td>0</td>\n",
       "      <td>0</td>\n",
       "      <td>7</td>\n",
       "      <td>1</td>\n",
       "      <td>1</td>\n",
       "    </tr>\n",
       "  </tbody>\n",
       "</table>\n",
       "</div>"
      ],
      "text/plain": [
       "   Temperature  Humidity  WindSpeed  GeneralDiffuseFlows  DiffuseFlows  \\\n",
       "0        6.559      73.8      0.083                0.051         5.567   \n",
       "\n",
       "   PowerConsumption_Zone1  PowerConsumption_Zone2  PowerConsumption_Zone3  \\\n",
       "0              34055.6962             16128.87538             20240.96386   \n",
       "\n",
       "   Day  Month  Hour  Minute  DayWeek  QuarterYear  DayYear  \n",
       "0    1      1     0       0        7            1        1  "
      ]
     },
     "execution_count": 16,
     "metadata": {},
     "output_type": "execute_result"
    }
   ],
   "source": [
    "df.head(1)"
   ]
  },
  {
   "cell_type": "code",
   "execution_count": 17,
   "id": "ac1a5f90",
   "metadata": {},
   "outputs": [],
   "source": [
    "df_test = df.head(1)"
   ]
  },
  {
   "cell_type": "code",
   "execution_count": 18,
   "id": "d9d5d1c7",
   "metadata": {},
   "outputs": [],
   "source": [
    "test_prediction = predictor.predict(df_test) "
   ]
  },
  {
   "cell_type": "code",
   "execution_count": 19,
   "id": "c74a420f",
   "metadata": {},
   "outputs": [
    {
     "data": {
      "text/plain": [
       "array([18392.45153046])"
      ]
     },
     "execution_count": 19,
     "metadata": {},
     "output_type": "execute_result"
    }
   ],
   "source": [
    "test_prediction"
   ]
  },
  {
   "cell_type": "code",
   "execution_count": null,
   "id": "3434b668",
   "metadata": {},
   "outputs": [],
   "source": []
  }
 ],
 "metadata": {
  "kernelspec": {
   "display_name": "mlops_venv",
   "language": "python",
   "name": "python3"
  },
  "language_info": {
   "codemirror_mode": {
    "name": "ipython",
    "version": 3
   },
   "file_extension": ".py",
   "mimetype": "text/x-python",
   "name": "python",
   "nbconvert_exporter": "python",
   "pygments_lexer": "ipython3",
   "version": "3.13.8"
  }
 },
 "nbformat": 4,
 "nbformat_minor": 5
}
